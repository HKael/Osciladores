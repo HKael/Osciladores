{
 "cells": [
  {
   "cell_type": "markdown",
   "metadata": {},
   "source": [
    "## Widgets"
   ]
  },
  {
   "cell_type": "markdown",
   "metadata": {},
   "source": [
    "El widget es una pequeña aplicación o programa, usualmente presentado en archivos o ficheros pequeños que son ejecutados por un motor de widgets o Widget Engine. Entre sus objetivos están dar fácil acceso a funciones frecuentemente usadas y proveer de información visual."
   ]
  },
  {
   "cell_type": "markdown",
   "metadata": {},
   "source": [
    "En este caso fallo por un error en el orden de importación o por poner un link roto u inalcanzable."
   ]
  },
  {
   "cell_type": "markdown",
   "metadata": {},
   "source": [
    "## Cmaps"
   ]
  },
  {
   "cell_type": "markdown",
   "metadata": {},
   "source": [
    "El software de Cmap es el resultado de una investigación realizada en el Instituto de Florida para la Cognición Humana y de Máquinas (IHMC). Permite a los usuarios construir, navegar, compartir y criticar modelos de conocimiento representados como mapas conceptuales."
   ]
  },
  {
   "cell_type": "markdown",
   "metadata": {},
   "source": [
    "## Oscilación amortiguada\n"
   ]
  },
  {
   "cell_type": "markdown",
   "metadata": {},
   "source": [
    "Se dice que un sistema cualquiera, mecánico, eléctrico, neumático, etc., es un oscilador si cuando se deja en libertad fuera de su posición de equilibrio, vuelve hacia ella describiendo oscilaciones sinusoidales, o sinusoidales amortiguadas en torno a dicha posición estable."
   ]
  },
  {
   "cell_type": "markdown",
   "metadata": {},
   "source": [
    "## Oscilación sobreamortiguada\n"
   ]
  },
  {
   "cell_type": "markdown",
   "metadata": {},
   "source": [
    "En la oscilación amortiguada la amplitud de la misma varía en el tiempo (según una curva exponencial), haciéndose cada vez más pequeña hasta llegar a cero. Es decir, el sistema (la partícula, el péndulo, la cuerda de la guitarra) se detiene finalmente en su posición de reposo.\n"
   ]
  },
  {
   "cell_type": "markdown",
   "metadata": {},
   "source": [
    "## Oscilación crítica\n"
   ]
  },
  {
   "cell_type": "markdown",
   "metadata": {},
   "source": [
    "la amplitud decrece exponencialmente con el tiempo, la energía disminuye, y describe una trayectoria en forma de espiral en el espacio de las fases. Asimismo, se pueden estudiar los casos de oscilaciones críticas y sobreamortiguadas.\n",
    "\n"
   ]
  },
  {
   "cell_type": "markdown",
   "metadata": {},
   "source": [
    "## Problema\n"
   ]
  },
  {
   "cell_type": "markdown",
   "metadata": {},
   "source": [
    "El programa intenta simular el proceso de inspección de los mandos de control de televisores.\n",
    "El tiempo o intervalo que transcurre entre los mismos sigue una distribución uniforme entre 3.5 y\n",
    "7.5 minutos. La inspección toma un tiempo de entre 6 y 12 minutos.\n",
    "\n",
    "Tras la inspección, si se detecta un error (Con un fallo de 15%),\n",
    "se envía a ser ajustado tras lo cual vuelve a ser inspeccionado. El ajuste lleva un tiempo\n",
    "uniforme de entre 20 y 40 minutos. Cuando un televisor pasa la inspección ( a la primera o\n",
    "tras varios ajustes), se envía a la sección de empaquetado.\n",
    "\n",
    "Esto no forma parte del modelo."
   ]
  },
  {
   "cell_type": "code",
   "execution_count": null,
   "metadata": {},
   "outputs": [],
   "source": []
  }
 ],
 "metadata": {
  "kernelspec": {
   "display_name": "Python 3",
   "language": "python",
   "name": "python3"
  },
  "language_info": {
   "codemirror_mode": {
    "name": "ipython",
    "version": 3
   },
   "file_extension": ".py",
   "mimetype": "text/x-python",
   "name": "python",
   "nbconvert_exporter": "python",
   "pygments_lexer": "ipython3",
   "version": "3.6.5"
  }
 },
 "nbformat": 4,
 "nbformat_minor": 2
}
